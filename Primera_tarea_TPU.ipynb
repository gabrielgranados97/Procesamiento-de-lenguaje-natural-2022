{
  "nbformat": 4,
  "nbformat_minor": 0,
  "metadata": {
    "colab": {
      "name": "Primera_tarea_TPU.ipynb",
      "provenance": [],
      "collapsed_sections": [],
      "authorship_tag": "ABX9TyPTiAy77BWWuAfCE4OA4LlV",
      "include_colab_link": true
    },
    "kernelspec": {
      "name": "python3",
      "display_name": "Python 3"
    },
    "language_info": {
      "name": "python"
    },
    "accelerator": "TPU"
  },
  "cells": [
    {
      "cell_type": "markdown",
      "metadata": {
        "id": "view-in-github",
        "colab_type": "text"
      },
      "source": [
        "<a href=\"https://colab.research.google.com/github/gabrielgranados97/Procesamiento-de-lenguaje-natural-2022/blob/main/Primera_tarea_TPU.ipynb\" target=\"_parent\"><img src=\"https://colab.research.google.com/assets/colab-badge.svg\" alt=\"Open In Colab\"/></a>"
      ]
    },
    {
      "cell_type": "code",
      "execution_count": null,
      "metadata": {
        "id": "F_BRyEs9SkAN"
      },
      "outputs": [],
      "source": [
        "#Primera tarea"
      ]
    },
    {
      "cell_type": "markdown",
      "source": [
        "**Lectura del set de datos**"
      ],
      "metadata": {
        "id": "PSE4Epn4Tz49"
      }
    },
    {
      "cell_type": "code",
      "source": [
        "import numpy as np\n",
        "import os\n",
        "import gzip\n",
        "\n",
        "def load_set(ruta, tipo='train'):\n",
        "\n",
        "  ruta_categorias = os.path.join(ruta, '%s-labels-idx1-ubyte.gz' % tipo)\n",
        "  ruta_imagenes = os.path.join(ruta, '%s-images-idx3-ubyte.gz' % tipo)\n",
        "    \n",
        "  with gzip.open(ruta_categorias, 'rb') as rut_cat:\n",
        "      etiquetas = np.frombuffer(rut_cat.read(), dtype=np.uint8, offset=8)\n",
        "\n",
        "  with gzip.open(ruta_imagenes, 'rb') as rut_imgs:\n",
        "      imagenes = np.frombuffer(rut_imgs.read(), dtype=np.uint8, offset=16).reshape(len(etiquetas), 784)\n",
        "\n",
        "  return imagenes, etiquetas"
      ],
      "metadata": {
        "id": "qtV_tuVVSpHK"
      },
      "execution_count": 36,
      "outputs": []
    },
    {
      "cell_type": "code",
      "source": [
        "from google.colab import drive\n",
        "drive.mount('/content/gdrive')\n",
        "\n",
        "ruta = '/content/gdrive/MyDrive/Colab Notebooks/fashion_mnist_data'\n",
        "\n",
        "X_train, Y_train = load_set(ruta, tipo='train')\n",
        "X_test, Y_test = load_set(ruta, tipo='test')"
      ],
      "metadata": {
        "id": "9VkfhoUPXGFB",
        "colab": {
          "base_uri": "https://localhost:8080/"
        },
        "outputId": "45a43d64-bd87-4120-a572-1adc779d87f5"
      },
      "execution_count": 37,
      "outputs": [
        {
          "output_type": "stream",
          "name": "stdout",
          "text": [
            "Drive already mounted at /content/gdrive; to attempt to forcibly remount, call drive.mount(\"/content/gdrive\", force_remount=True).\n"
          ]
        }
      ]
    },
    {
      "cell_type": "markdown",
      "source": [
        "**Reajustar el tamaño de los datos**"
      ],
      "metadata": {
        "id": "xUVcEJf3T6iN"
      }
    },
    {
      "cell_type": "code",
      "source": [
        "X_train = X_train[0:59904:]\n",
        "X_test = X_test[0:9984:]\n",
        "Y_train = Y_train[0:59904:]\n",
        "Y_test = Y_test[0:9984]\n",
        "\n",
        "X_train = np.reshape(X_train,(59904,28,28,1))\n",
        "X_test = np.reshape(X_test,(9984,28,28,1))"
      ],
      "metadata": {
        "id": "nPZruZ0BY1gS"
      },
      "execution_count": 38,
      "outputs": []
    },
    {
      "cell_type": "markdown",
      "source": [
        "**Importar tensorflow 2 (ya incluye Keras)**"
      ],
      "metadata": {
        "id": "ceFtW5EGZmyN"
      }
    },
    {
      "cell_type": "code",
      "source": [
        "%tensorflow_version 2.x\n",
        "import tensorflow as tf\n",
        "\n",
        "print('Versión de Tensorflow: ' + tf.__version__)\n"
      ],
      "metadata": {
        "id": "-1wPv-p-Ztru",
        "colab": {
          "base_uri": "https://localhost:8080/"
        },
        "outputId": "d199672c-8c4b-451a-928b-63f583284ea3"
      },
      "execution_count": 39,
      "outputs": [
        {
          "output_type": "stream",
          "name": "stdout",
          "text": [
            "Versión de Tensorflow: 2.8.0\n"
          ]
        }
      ]
    },
    {
      "cell_type": "markdown",
      "source": [
        "**Verificar disponibilidad de la TPU**"
      ],
      "metadata": {
        "id": "nUt93dq6deOh"
      }
    },
    {
      "cell_type": "code",
      "source": [
        "from tensorflow.python.distribute import tpu_strategy\n",
        "from six import print_\n",
        "from tensorflow.python.ops.gen_logging_ops import Print\n",
        "try:\n",
        "  tpu = tf.distribute.cluster_resolver.TPUClusterResolver(tpu='grpc://' + os.environ['COLAB_TPU_ADDR'])\n",
        "  print('TPU Encontrada ', tpu.cluster_spec().as_dict()['worker'])\n",
        "except ValueError:\n",
        "  raise BaseException('ERROR: TPU no encontrada')\n",
        "\n",
        "tf.config.experimental_connect_to_cluster(tpu)\n",
        "tf.tpu.experimental.initialize_tpu_system(tpu)\n",
        "tpu_strategy = tf.distribute.experimental.TPUStrategy(tpu)  "
      ],
      "metadata": {
        "id": "WU9AOrt3dbIR",
        "colab": {
          "base_uri": "https://localhost:8080/"
        },
        "outputId": "27196db1-d0ed-4e12-d456-75cf887f7f6a"
      },
      "execution_count": 40,
      "outputs": [
        {
          "output_type": "stream",
          "name": "stdout",
          "text": [
            "TPU Encontrada  ['10.111.251.26:8470']\n",
            "INFO:tensorflow:Deallocate tpu buffers before initializing tpu system.\n"
          ]
        },
        {
          "output_type": "stream",
          "name": "stderr",
          "text": [
            "INFO:tensorflow:Deallocate tpu buffers before initializing tpu system.\n"
          ]
        },
        {
          "output_type": "stream",
          "name": "stdout",
          "text": [
            "WARNING:tensorflow:TPU system grpc://10.111.251.26:8470 has already been initialized. Reinitializing the TPU can cause previously created variables on TPU to be lost.\n"
          ]
        },
        {
          "output_type": "stream",
          "name": "stderr",
          "text": [
            "WARNING:tensorflow:TPU system grpc://10.111.251.26:8470 has already been initialized. Reinitializing the TPU can cause previously created variables on TPU to be lost.\n"
          ]
        },
        {
          "output_type": "stream",
          "name": "stdout",
          "text": [
            "INFO:tensorflow:Initializing the TPU system: grpc://10.111.251.26:8470\n"
          ]
        },
        {
          "output_type": "stream",
          "name": "stderr",
          "text": [
            "INFO:tensorflow:Initializing the TPU system: grpc://10.111.251.26:8470\n"
          ]
        },
        {
          "output_type": "stream",
          "name": "stdout",
          "text": [
            "INFO:tensorflow:Finished initializing TPU system.\n"
          ]
        },
        {
          "output_type": "stream",
          "name": "stderr",
          "text": [
            "INFO:tensorflow:Finished initializing TPU system.\n",
            "WARNING:absl:`tf.distribute.experimental.TPUStrategy` is deprecated, please use  the non experimental symbol `tf.distribute.TPUStrategy` instead.\n"
          ]
        },
        {
          "output_type": "stream",
          "name": "stdout",
          "text": [
            "INFO:tensorflow:Found TPU system:\n"
          ]
        },
        {
          "output_type": "stream",
          "name": "stderr",
          "text": [
            "INFO:tensorflow:Found TPU system:\n"
          ]
        },
        {
          "output_type": "stream",
          "name": "stdout",
          "text": [
            "INFO:tensorflow:*** Num TPU Cores: 8\n"
          ]
        },
        {
          "output_type": "stream",
          "name": "stderr",
          "text": [
            "INFO:tensorflow:*** Num TPU Cores: 8\n"
          ]
        },
        {
          "output_type": "stream",
          "name": "stdout",
          "text": [
            "INFO:tensorflow:*** Num TPU Workers: 1\n"
          ]
        },
        {
          "output_type": "stream",
          "name": "stderr",
          "text": [
            "INFO:tensorflow:*** Num TPU Workers: 1\n"
          ]
        },
        {
          "output_type": "stream",
          "name": "stdout",
          "text": [
            "INFO:tensorflow:*** Num TPU Cores Per Worker: 8\n"
          ]
        },
        {
          "output_type": "stream",
          "name": "stderr",
          "text": [
            "INFO:tensorflow:*** Num TPU Cores Per Worker: 8\n"
          ]
        },
        {
          "output_type": "stream",
          "name": "stdout",
          "text": [
            "INFO:tensorflow:*** Available Device: _DeviceAttributes(/job:localhost/replica:0/task:0/device:CPU:0, CPU, 0, 0)\n"
          ]
        },
        {
          "output_type": "stream",
          "name": "stderr",
          "text": [
            "INFO:tensorflow:*** Available Device: _DeviceAttributes(/job:localhost/replica:0/task:0/device:CPU:0, CPU, 0, 0)\n"
          ]
        },
        {
          "output_type": "stream",
          "name": "stdout",
          "text": [
            "INFO:tensorflow:*** Available Device: _DeviceAttributes(/job:worker/replica:0/task:0/device:CPU:0, CPU, 0, 0)\n"
          ]
        },
        {
          "output_type": "stream",
          "name": "stderr",
          "text": [
            "INFO:tensorflow:*** Available Device: _DeviceAttributes(/job:worker/replica:0/task:0/device:CPU:0, CPU, 0, 0)\n"
          ]
        },
        {
          "output_type": "stream",
          "name": "stdout",
          "text": [
            "INFO:tensorflow:*** Available Device: _DeviceAttributes(/job:worker/replica:0/task:0/device:TPU:0, TPU, 0, 0)\n"
          ]
        },
        {
          "output_type": "stream",
          "name": "stderr",
          "text": [
            "INFO:tensorflow:*** Available Device: _DeviceAttributes(/job:worker/replica:0/task:0/device:TPU:0, TPU, 0, 0)\n"
          ]
        },
        {
          "output_type": "stream",
          "name": "stdout",
          "text": [
            "INFO:tensorflow:*** Available Device: _DeviceAttributes(/job:worker/replica:0/task:0/device:TPU:1, TPU, 0, 0)\n"
          ]
        },
        {
          "output_type": "stream",
          "name": "stderr",
          "text": [
            "INFO:tensorflow:*** Available Device: _DeviceAttributes(/job:worker/replica:0/task:0/device:TPU:1, TPU, 0, 0)\n"
          ]
        },
        {
          "output_type": "stream",
          "name": "stdout",
          "text": [
            "INFO:tensorflow:*** Available Device: _DeviceAttributes(/job:worker/replica:0/task:0/device:TPU:2, TPU, 0, 0)\n"
          ]
        },
        {
          "output_type": "stream",
          "name": "stderr",
          "text": [
            "INFO:tensorflow:*** Available Device: _DeviceAttributes(/job:worker/replica:0/task:0/device:TPU:2, TPU, 0, 0)\n"
          ]
        },
        {
          "output_type": "stream",
          "name": "stdout",
          "text": [
            "INFO:tensorflow:*** Available Device: _DeviceAttributes(/job:worker/replica:0/task:0/device:TPU:3, TPU, 0, 0)\n"
          ]
        },
        {
          "output_type": "stream",
          "name": "stderr",
          "text": [
            "INFO:tensorflow:*** Available Device: _DeviceAttributes(/job:worker/replica:0/task:0/device:TPU:3, TPU, 0, 0)\n"
          ]
        },
        {
          "output_type": "stream",
          "name": "stdout",
          "text": [
            "INFO:tensorflow:*** Available Device: _DeviceAttributes(/job:worker/replica:0/task:0/device:TPU:4, TPU, 0, 0)\n"
          ]
        },
        {
          "output_type": "stream",
          "name": "stderr",
          "text": [
            "INFO:tensorflow:*** Available Device: _DeviceAttributes(/job:worker/replica:0/task:0/device:TPU:4, TPU, 0, 0)\n"
          ]
        },
        {
          "output_type": "stream",
          "name": "stdout",
          "text": [
            "INFO:tensorflow:*** Available Device: _DeviceAttributes(/job:worker/replica:0/task:0/device:TPU:5, TPU, 0, 0)\n"
          ]
        },
        {
          "output_type": "stream",
          "name": "stderr",
          "text": [
            "INFO:tensorflow:*** Available Device: _DeviceAttributes(/job:worker/replica:0/task:0/device:TPU:5, TPU, 0, 0)\n"
          ]
        },
        {
          "output_type": "stream",
          "name": "stdout",
          "text": [
            "INFO:tensorflow:*** Available Device: _DeviceAttributes(/job:worker/replica:0/task:0/device:TPU:6, TPU, 0, 0)\n"
          ]
        },
        {
          "output_type": "stream",
          "name": "stderr",
          "text": [
            "INFO:tensorflow:*** Available Device: _DeviceAttributes(/job:worker/replica:0/task:0/device:TPU:6, TPU, 0, 0)\n"
          ]
        },
        {
          "output_type": "stream",
          "name": "stdout",
          "text": [
            "INFO:tensorflow:*** Available Device: _DeviceAttributes(/job:worker/replica:0/task:0/device:TPU:7, TPU, 0, 0)\n"
          ]
        },
        {
          "output_type": "stream",
          "name": "stderr",
          "text": [
            "INFO:tensorflow:*** Available Device: _DeviceAttributes(/job:worker/replica:0/task:0/device:TPU:7, TPU, 0, 0)\n"
          ]
        },
        {
          "output_type": "stream",
          "name": "stdout",
          "text": [
            "INFO:tensorflow:*** Available Device: _DeviceAttributes(/job:worker/replica:0/task:0/device:TPU_SYSTEM:0, TPU_SYSTEM, 0, 0)\n"
          ]
        },
        {
          "output_type": "stream",
          "name": "stderr",
          "text": [
            "INFO:tensorflow:*** Available Device: _DeviceAttributes(/job:worker/replica:0/task:0/device:TPU_SYSTEM:0, TPU_SYSTEM, 0, 0)\n"
          ]
        },
        {
          "output_type": "stream",
          "name": "stdout",
          "text": [
            "INFO:tensorflow:*** Available Device: _DeviceAttributes(/job:worker/replica:0/task:0/device:XLA_CPU:0, XLA_CPU, 0, 0)\n"
          ]
        },
        {
          "output_type": "stream",
          "name": "stderr",
          "text": [
            "INFO:tensorflow:*** Available Device: _DeviceAttributes(/job:worker/replica:0/task:0/device:XLA_CPU:0, XLA_CPU, 0, 0)\n"
          ]
        }
      ]
    },
    {
      "cell_type": "markdown",
      "source": [
        "**Implementar el modelo usando TPU **"
      ],
      "metadata": {
        "id": "z_yETOm7C9ZL"
      }
    },
    {
      "cell_type": "code",
      "source": [
        "tf.random.set_seed(200)\n",
        "\n",
        "with tpu_strategy.scope ():\n",
        "  modelo = tf.keras.models.Sequential()\n",
        "  modelo.add(tf.keras.layers.BatchNormalization(input_shape=X_train.shape[1:]))\n",
        "  modelo.add(tf.keras.layers.Conv2D(64, (5, 5), padding='same', activation='elu'))\n",
        "  modelo.add(tf.keras.layers.MaxPooling2D(pool_size=(2, 2), strides=(2,2)))\n",
        "  modelo.add(tf.keras.layers.Dropout(0.25))\n",
        "\n",
        "  modelo.add(tf.keras.layers.BatchNormalization(input_shape=X_train.shape[1:]))\n",
        "  modelo.add(tf.keras.layers.Conv2D(128, (5, 5), padding='same', activation='elu'))\n",
        "  modelo.add(tf.keras.layers.MaxPooling2D(pool_size=(2, 2)))\n",
        "  modelo.add(tf.keras.layers.Dropout(0.25))\n",
        "\n",
        "  modelo.add(tf.keras.layers.BatchNormalization(input_shape=X_train.shape[1:]))\n",
        "  modelo.add(tf.keras.layers.Conv2D(256, (5, 5), padding='same', activation='elu'))\n",
        "  modelo.add(tf.keras.layers.MaxPooling2D(pool_size=(2, 2), strides=(2,2)))\n",
        "  modelo.add(tf.keras.layers.Dropout(0.25))\n",
        "\n",
        "  modelo.add(tf.keras.layers.Flatten())\n",
        "  modelo.add(tf.keras.layers.Dense(256))\n",
        "  modelo.add(tf.keras.layers.Activation('elu'))\n",
        "  modelo.add(tf.keras.layers.Dropout(0.5))\n",
        "  modelo.add(tf.keras.layers.Dense(10))\n",
        "  modelo.add(tf.keras.layers.Activation('softmax'))\n",
        "\n",
        "#Compilar el modelo e imprimir información en pantalla\n",
        "\n",
        "  modelo.compile(optimizer='adam',loss='sparse_categorical_crossentropy',metrics=['accuracy'])\n",
        "# checkpoint\n",
        "  cp_path='/content/gdrive/MyDrive/Colab Notebooks'\n",
        "  tpu_callback =tf.keras.callbacks.ModelCheckpoint(cp_path,save_best_only=True,save_weights_only=True,verbose=1)\n",
        "\n",
        "  modelo.summary()\n"
      ],
      "metadata": {
        "colab": {
          "base_uri": "https://localhost:8080/"
        },
        "id": "TOG52hr_C66p",
        "outputId": "6209cee2-8a36-4331-c661-63cf47560dcb"
      },
      "execution_count": 44,
      "outputs": [
        {
          "output_type": "stream",
          "name": "stdout",
          "text": [
            "Model: \"sequential_12\"\n",
            "_________________________________________________________________\n",
            " Layer (type)                Output Shape              Param #   \n",
            "=================================================================\n",
            " batch_normalization_36 (Bat  (None, 28, 28, 1)        4         \n",
            " chNormalization)                                                \n",
            "                                                                 \n",
            " conv2d_36 (Conv2D)          (None, 28, 28, 64)        1664      \n",
            "                                                                 \n",
            " max_pooling2d_36 (MaxPoolin  (None, 14, 14, 64)       0         \n",
            " g2D)                                                            \n",
            "                                                                 \n",
            " dropout_48 (Dropout)        (None, 14, 14, 64)        0         \n",
            "                                                                 \n",
            " batch_normalization_37 (Bat  (None, 14, 14, 64)       256       \n",
            " chNormalization)                                                \n",
            "                                                                 \n",
            " conv2d_37 (Conv2D)          (None, 14, 14, 128)       204928    \n",
            "                                                                 \n",
            " max_pooling2d_37 (MaxPoolin  (None, 7, 7, 128)        0         \n",
            " g2D)                                                            \n",
            "                                                                 \n",
            " dropout_49 (Dropout)        (None, 7, 7, 128)         0         \n",
            "                                                                 \n",
            " batch_normalization_38 (Bat  (None, 7, 7, 128)        512       \n",
            " chNormalization)                                                \n",
            "                                                                 \n",
            " conv2d_38 (Conv2D)          (None, 7, 7, 256)         819456    \n",
            "                                                                 \n",
            " max_pooling2d_38 (MaxPoolin  (None, 3, 3, 256)        0         \n",
            " g2D)                                                            \n",
            "                                                                 \n",
            " dropout_50 (Dropout)        (None, 3, 3, 256)         0         \n",
            "                                                                 \n",
            " flatten_12 (Flatten)        (None, 2304)              0         \n",
            "                                                                 \n",
            " dense_24 (Dense)            (None, 256)               590080    \n",
            "                                                                 \n",
            " activation_24 (Activation)  (None, 256)               0         \n",
            "                                                                 \n",
            " dropout_51 (Dropout)        (None, 256)               0         \n",
            "                                                                 \n",
            " dense_25 (Dense)            (None, 10)                2570      \n",
            "                                                                 \n",
            " activation_25 (Activation)  (None, 10)                0         \n",
            "                                                                 \n",
            "=================================================================\n",
            "Total params: 1,619,470\n",
            "Trainable params: 1,619,084\n",
            "Non-trainable params: 386\n",
            "_________________________________________________________________\n"
          ]
        }
      ]
    },
    {
      "cell_type": "markdown",
      "source": [
        "**Entrenamiento con TPU**\n"
      ],
      "metadata": {
        "id": "UKrKFG4oIYin"
      }
    },
    {
      "cell_type": "code",
      "source": [
        "X_train = X_train.astype(np.float32)\n",
        "X_test = X_test.astype(np.float32)\n",
        "Y_train = Y_train.astype(np.float32)\n",
        "Y_test = Y_test.astype(np.float32)\n",
        "\n",
        "import timeit\n",
        "\n",
        "def entrenamiento_tpu():\n",
        "  modelo.fit(X_train, Y_train, validation_data=(X_test, Y_test), batch_size=128,callbacks=[tpu_callback], epochs=2,verbose=1)\n",
        "  return None\n",
        "  \n",
        "tpu_time = timeit.timeit('entrenamiento_tpu()', number=1, setup='from __main__ import entrenamiento_tpu')"
      ],
      "metadata": {
        "id": "xM11eTzXIiBB",
        "colab": {
          "base_uri": "https://localhost:8080/"
        },
        "outputId": "8c04bf66-43bf-486d-c741-9d715a9bad97"
      },
      "execution_count": 45,
      "outputs": [
        {
          "output_type": "stream",
          "name": "stdout",
          "text": [
            "Epoch 1/2\n",
            "467/468 [============================>.] - ETA: 0s - loss: 0.7224 - accuracy: 0.7710\n",
            "Epoch 1: val_loss improved from inf to 0.36439, saving model to /content/gdrive/MyDrive/Colab Notebooks\n",
            "468/468 [==============================] - 17s 25ms/step - loss: 0.7222 - accuracy: 0.7710 - val_loss: 0.3644 - val_accuracy: 0.8726\n",
            "Epoch 2/2\n",
            "467/468 [============================>.] - ETA: 0s - loss: 0.3997 - accuracy: 0.8587\n",
            "Epoch 2: val_loss improved from 0.36439 to 0.34081, saving model to /content/gdrive/MyDrive/Colab Notebooks\n",
            "468/468 [==============================] - 10s 21ms/step - loss: 0.3994 - accuracy: 0.8588 - val_loss: 0.3408 - val_accuracy: 0.8880\n"
          ]
        }
      ]
    },
    {
      "cell_type": "code",
      "source": [
        "print('Tiempo de entrenamiento ' + str(tpu_time)+ ' segundos')"
      ],
      "metadata": {
        "id": "96UM_Soxewlt",
        "colab": {
          "base_uri": "https://localhost:8080/"
        },
        "outputId": "5fccee8a-29bb-46d6-abad-67ac4cccb8d3"
      },
      "execution_count": 46,
      "outputs": [
        {
          "output_type": "stream",
          "name": "stdout",
          "text": [
            "Tiempo de entrenamiento 29.231464975000563 segundos\n"
          ]
        }
      ]
    }
  ]
}